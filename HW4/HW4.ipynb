{
 "cells": [
  {
   "cell_type": "code",
   "execution_count": 300,
   "metadata": {},
   "outputs": [],
   "source": [
    "import numpy as np\n",
    "import pandas as pd\n",
    "import random\n",
    "from sklearn.svm import SVC, SVR\n",
    "from sklearn.metrics import accuracy_score"
   ]
  },
  {
   "cell_type": "markdown",
   "metadata": {},
   "source": [
    "## Load data"
   ]
  },
  {
   "cell_type": "code",
   "execution_count": 301,
   "metadata": {},
   "outputs": [],
   "source": [
    "x_train = np.load(\"x_train.npy\")\n",
    "y_train = np.load(\"y_train.npy\")\n",
    "x_test = np.load(\"x_test.npy\")\n",
    "# y_test = np.load(\"y_test.npy\")"
   ]
  },
  {
   "cell_type": "code",
   "execution_count": 302,
   "metadata": {},
   "outputs": [
    {
     "name": "stdout",
     "output_type": "stream",
     "text": [
      "(7000, 300)\n",
      "(7000,)\n"
     ]
    }
   ],
   "source": [
    "# 7000 data with 300 features\n",
    "print(x_train.shape)\n",
    "print(y_train.shape)"
   ]
  },
  {
   "cell_type": "code",
   "execution_count": 303,
   "metadata": {},
   "outputs": [
    {
     "name": "stdout",
     "output_type": "stream",
     "text": [
      "[0 1]\n"
     ]
    }
   ],
   "source": [
    "# It's a binary classification problem \n",
    "print(np.unique(y_train))"
   ]
  },
  {
   "cell_type": "markdown",
   "metadata": {},
   "source": [
    "## Question 1\n",
    "K-fold data partition: Implement the K-fold cross-validation function. Your function should take K as an argument and return a list of lists (len(list) should equal to K), which contains K elements. Each element is a list contains two parts, the first part contains the index of all training folds, e.g. Fold 2 to Fold 5 in split 1. The second part contains the index of validation fold, e.g. Fold 1 in  split 1"
   ]
  },
  {
   "cell_type": "code",
   "execution_count": 304,
   "metadata": {},
   "outputs": [],
   "source": [
    "def cross_validation(x_train, y_train, k=5):\n",
    "    datalen = x_train.shape[0]\n",
    "    indexlist = [*range(datalen)]\n",
    "    random.shuffle(indexlist)\n",
    "    splitlen = int(datalen / k)\n",
    "    result = []\n",
    "    for i in range(0, k):\n",
    "        trainset = indexlist[0 : i * splitlen] + indexlist[(i + 1) * splitlen : k * splitlen]\n",
    "        validset = indexlist[i * splitlen : (i + 1) * splitlen]\n",
    "        element = [np.array(trainset), np.array(validset)]\n",
    "        result.append(element)\n",
    "    return result\n"
   ]
  },
  {
   "cell_type": "code",
   "execution_count": 305,
   "metadata": {},
   "outputs": [],
   "source": [
    "kfold_data = cross_validation(x_train, y_train, k=10)\n",
    "assert len(kfold_data) == 10 # should contain 10 fold of data\n",
    "assert len(kfold_data[0]) == 2 # each element should contain train fold and validation fold\n",
    "assert kfold_data[0][1].shape[0] == 700 # The number of data in each validation fold should equal to training data divieded by K"
   ]
  },
  {
   "cell_type": "markdown",
   "metadata": {},
   "source": [
    "## example"
   ]
  },
  {
   "cell_type": "code",
   "execution_count": 306,
   "metadata": {},
   "outputs": [
    {
     "name": "stdout",
     "output_type": "stream",
     "text": [
      "Split: 1, Training index: [ 0  1  3  4  6  7  8  9 10 11 12 13 14 15 16 19], Validation index: [ 2  5 17 18]\n",
      "Split: 2, Training index: [ 0  1  2  3  4  5  7  8  9 10 12 13 15 17 18 19], Validation index: [ 6 11 14 16]\n",
      "Split: 3, Training index: [ 1  2  4  5  6  7  8 10 11 12 13 14 15 16 17 18], Validation index: [ 0  3  9 19]\n",
      "Split: 4, Training index: [ 0  2  3  4  5  6  8  9 11 12 13 14 16 17 18 19], Validation index: [ 1  7 10 15]\n",
      "Split: 5, Training index: [ 0  1  2  3  5  6  7  9 10 11 14 15 16 17 18 19], Validation index: [ 4  8 12 13]\n"
     ]
    }
   ],
   "source": [
    "from sklearn.model_selection import KFold\n",
    "\n",
    "X = np.arange(20)\n",
    "kf = KFold(n_splits=5, shuffle=True)\n",
    "kfold_data= []\n",
    "for i, (train_index, val_index) in enumerate(kf.split(X)):\n",
    "    print(\"Split: %s, Training index: %s, Validation index: %s\" % (i+1, train_index, val_index))\n",
    "    kfold_data.append([train_index, val_index])"
   ]
  },
  {
   "cell_type": "code",
   "execution_count": 307,
   "metadata": {},
   "outputs": [],
   "source": [
    "assert len(kfold_data) == 5 # should contain 5 fold of data\n",
    "assert len(kfold_data[0]) == 2 # each element should contains index of training fold and validation fold\n",
    "assert kfold_data[0][1].shape[0] == 4 # The number of data in each validation fold should equal to training data divieded by K"
   ]
  },
  {
   "cell_type": "markdown",
   "metadata": {},
   "source": [
    "## Question 2\n",
    "Using sklearn.svm.SVC to train a classifier on the provided train set and conduct the grid search of “C” and “gamma” to find the best parameters by cross-validation."
   ]
  },
  {
   "cell_type": "code",
   "execution_count": 308,
   "metadata": {},
   "outputs": [],
   "source": [
    "def index2arrays(indexlist):\n",
    "    datalen = len(indexlist)\n",
    "    x = np.zeros((datalen, x_train.shape[1]))\n",
    "    y = np.zeros(datalen)\n",
    "    for i in range(datalen):\n",
    "        x[i] = x_train[indexlist[i]]\n",
    "        y[i] = y_train[indexlist[i]]\n",
    "\n",
    "    return x, y\n",
    "\n",
    "## your code\n",
    "Clist = [0.1, 1, 10, 100, 1000, 10000, 100000]\n",
    "gammalist = [0.000000001, 0.00000001, 0.0000001, 0.000001, 0.00001, 0.0001, 0.001]\n",
    "scoregrids = np.zeros((len(gammalist), len(Clist)))\n",
    "k = 5\n",
    "kfold_data = cross_validation(x_train, y_train, 5)\n",
    "datalen = x_train.shape[0]\n",
    "bestscore = -1\n",
    "bestC = -1\n",
    "bestgamma = -1\n",
    "\n",
    "i = 0\n",
    "for gamma in gammalist:\n",
    "    j = 0   \n",
    "    for C in Clist:\n",
    "        totalscore = 0\n",
    "        for _k in range(0, k):\n",
    "            svm = SVC(gamma=gamma, C=C)\n",
    "            trainindexlist = kfold_data[_k][0]\n",
    "            validindexlist = kfold_data[_k][1]\n",
    "\n",
    "            x_train_split, y_train_split = index2arrays(trainindexlist)\n",
    "            x_test_split, y_test_split = index2arrays(validindexlist)\n",
    "            svm.fit(x_train_split, y_train_split)\n",
    "            score = svm.score(x_test_split, y_test_split)\n",
    "            totalscore += score\n",
    "        avg = totalscore / k\n",
    "        if avg > bestscore:\n",
    "            bestscore = avg\n",
    "            bestC = C\n",
    "            bestgamma = gamma\n",
    "        scoregrids[i][j] = avg\n",
    "        j += 1\n",
    "    i += 1\n"
   ]
  },
  {
   "cell_type": "code",
   "execution_count": 312,
   "metadata": {},
   "outputs": [
    {
     "name": "stdout",
     "output_type": "stream",
     "text": [
      "[[0.57128571 0.57128571 0.57128571 0.57128571 0.90857143 0.93414286\n",
      "  0.93914286]\n",
      " [0.57128571 0.57128571 0.57128571 0.90828571 0.93485714 0.93842857\n",
      "  0.93314286]\n",
      " [0.57128571 0.57128571 0.90828571 0.93485714 0.93914286 0.93742857\n",
      "  0.96871429]\n",
      " [0.57171429 0.90928571 0.93614286 0.94514286 0.976      0.98871429\n",
      "  0.98842857]\n",
      " [0.91528571 0.95271429 0.98442857 0.991      0.991      0.991\n",
      "  0.991     ]\n",
      " [0.97414286 0.99342857 0.99342857 0.99342857 0.99342857 0.99342857\n",
      "  0.99342857]\n",
      " [0.50428571 0.57128571 0.57085714 0.57085714 0.57085714 0.57085714\n",
      "  0.57085714]]\n"
     ]
    }
   ],
   "source": [
    "print(scoregrids)"
   ]
  },
  {
   "cell_type": "markdown",
   "metadata": {},
   "source": [
    "### scoregrid result: \n",
    "[[0.57128571 0.57128571 0.57128571 0.57128571 0.90857143 0.93414286\n",
    "  0.93914286]\n",
    " [0.57128571 0.57128571 0.57128571 0.90828571 0.93485714 0.93842857\n",
    "  0.93314286]\n",
    " [0.57128571 0.57128571 0.90828571 0.93485714 0.93914286 0.93742857\n",
    "  0.96871429]\n",
    " [0.57171429 0.90928571 0.93614286 0.94514286 0.976      0.98871429\n",
    "  0.98842857]\n",
    " [0.91528571 0.95271429 0.98442857 0.991      0.991      0.991\n",
    "  0.991     ]\n",
    " [0.97414286 0.99342857 0.99342857 0.99342857 0.99342857 0.99342857\n",
    "  0.99342857]\n",
    " [0.50428571 0.57128571 0.57085714 0.57085714 0.57085714 0.57085714\n",
    "  0.57085714]]"
   ]
  },
  {
   "cell_type": "code",
   "execution_count": 310,
   "metadata": {},
   "outputs": [
    {
     "name": "stdout",
     "output_type": "stream",
     "text": [
      "0.9934285714285714\n",
      "[1, 0.0001]\n"
     ]
    }
   ],
   "source": [
    "best_parameters = [bestC, bestgamma]\n",
    "print(bestscore)\n",
    "print(best_parameters)"
   ]
  },
  {
   "cell_type": "markdown",
   "metadata": {},
   "source": [
    "## Question 3\n",
    "Plot the grid search results of your SVM. The x, y represents the hyperparameters of “gamma” and “C”, respectively. And the color represents the average score of validation folds\n",
    "You reults should be look like this reference image below ![image](https://miro.medium.com/max/1296/1*wGWTup9r4cVytB5MOnsjdQ.png) "
   ]
  },
  {
   "cell_type": "code",
   "execution_count": 331,
   "metadata": {},
   "outputs": [
    {
     "data": {
      "image/png": "[encoded data removed]",
      "text/plain": [
       "<Figure size 640x480 with 2 Axes>"
      ]
     },
     "metadata": {},
     "output_type": "display_data"
    }
   ],
   "source": [
    "import matplotlib.pyplot as plt\n",
    "\n",
    "for i in range(scoregrids.shape[0]):\n",
    "    for j in range(scoregrids.shape[1]):\n",
    "        scoregrids[i][j] = round(scoregrids[i][j], 2)\n",
    "\n",
    "fig, ax = plt.subplots()\n",
    "im = ax.imshow(scoregrids, cmap='RdBu')\n",
    "\n",
    "ax.set_xticks(np.arange(len(Clist)))\n",
    "ax.set_yticks(np.arange(len(gammalist)))\n",
    "ax.set_xticklabels(Clist)\n",
    "ax.set_yticklabels(gammalist)\n",
    "ax.figure.colorbar(im, ax=ax)\n",
    "\n",
    "plt.setp(ax.get_xticklabels(), rotation=45, ha=\"right\",\n",
    "         rotation_mode=\"anchor\")\n",
    "\n",
    "# Loop over data dimensions and create text annotations.\n",
    "for i in range(len(Clist)):\n",
    "    for j in range(len(gammalist)):\n",
    "        text = ax.text(j, i, scoregrids[i, j],\n",
    "                       ha=\"center\", va=\"center\", color=\"w\")\n",
    "\n",
    "ax.set_title(\"Hyperparameter Gridsearch\")\n",
    "fig.tight_layout()\n",
    "plt.show()\n"
   ]
  },
  {
   "cell_type": "markdown",
   "metadata": {},
   "source": [
    "## Question 4\n",
    "Train your SVM model by the best parameters you found from question 2 on the whole training set and evaluate the performance on the test set."
   ]
  },
  {
   "cell_type": "code",
   "execution_count": 335,
   "metadata": {},
   "outputs": [],
   "source": [
    "best_model = SVC(gamma=best_parameters[1], C=best_parameters[0])\n",
    "best_model.fit(x_train, y_train)\n",
    "\n",
    "y_pred = best_model.predict(x_test)\n",
    "np.save('y_pred.npy', y_pred)\n",
    "# print(\"Accuracy score: \", accuracy_score(y_pred, y_test))"
   ]
  }
 ],
 "metadata": {
  "kernelspec": {
   "display_name": "Python 3.10.8 64-bit",
   "language": "python",
   "name": "python3"
  },
  "language_info": {
   "codemirror_mode": {
    "name": "ipython",
    "version": 3
   },
   "file_extension": ".py",
   "mimetype": "text/x-python",
   "name": "python",
   "nbconvert_exporter": "python",
   "pygments_lexer": "ipython3",
   "version": "3.10.8"
  },
  "vscode": {
   "interpreter": {
    "hash": "b0fa6594d8f4cbf19f97940f81e996739fb7646882a419484c72d19e05852a7e"
   }
  }
 },
 "nbformat": 4,
 "nbformat_minor": 4
}
